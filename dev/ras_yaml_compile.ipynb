{
 "cells": [
  {
   "cell_type": "code",
   "execution_count": null,
   "metadata": {},
   "outputs": [],
   "source": []
  }
 ],
 "metadata": {
  "kernelspec": {
   "display_name": "flask-forms",
   "language": "python",
   "name": "python3"
  },
  "language_info": {
   "name": "python",
   "version": "3.11.0"
  },
  "orig_nbformat": 4,
  "vscode": {
   "interpreter": {
    "hash": "990a51e6637b3aec83bdfd68488de192c6aff3f5a8661c0fcf7fce7c40ea5ab0"
   }
  }
 },
 "nbformat": 4,
 "nbformat_minor": 2
}
