{
 "cells": [
  {
   "cell_type": "code",
   "execution_count": 16,
   "metadata": {},
   "outputs": [],
   "source": [
    "# Model Application - Map YAML to current web app JSON input format.\n",
    "\n",
    "import json\n",
    "import yaml\n",
    "\n",
    "with open(r\"C:\\py\\hec_meta_extract\\example\\input\\json\\ras_simulation.json\", 'r') as f:\n",
    "    ras_sim_template_json = json.load(f)\n",
    "\n",
    "# type(ras_model_template_json)\n",
    "# print(ras_model_template_json.keys())\n",
    "\n",
    "# keys to drop\n",
    "drop_keys = ['_id', 'model_software', 'parameters', 'linked_resources', 'type', 'output_files']\n",
    "\n",
    "for key in drop_keys:\n",
    "    del ras_sim_template_json[key]"
   ]
  },
  {
   "cell_type": "code",
   "execution_count": 18,
   "metadata": {},
   "outputs": [],
   "source": [
    "# Open ras prj yaml to map values to json\n",
    "p_yaml_fn = r'C:\\py\\hec_meta_extract\\output\\ras\\Amite_2022\\Amite_2022.p07.yml'\n",
    "with open(p_yaml_fn, \"r\") as stream:\n",
    "    try:\n",
    "        p_yaml = yaml.safe_load(stream)\n",
    "    except yaml.YAMLError as exc:\n",
    "        print(exc)"
   ]
  },
  {
   "cell_type": "code",
   "execution_count": 13,
   "metadata": {},
   "outputs": [],
   "source": [
    "# Format Simulation Date to match web app format\n",
    "from datetime import datetime \n",
    "dt_raw = p_yaml['Simulation Date'].split(\",\")\n",
    "sDate_dt = datetime.strptime(dt_raw[0], '%d%b%Y')\n",
    "sDate_str = datetime.strftime(sDate_dt, '%Y-%m-%d')\n",
    "eDate_dt = datetime.strptime(dt_raw[2], '%d%b%Y')\n",
    "eDate_str = datetime.strftime(eDate_dt, '%Y-%m-%d')\n",
    "temporal_extent = [sDate_str, eDate_str]\n",
    "\n"
   ]
  },
  {
   "cell_type": "code",
   "execution_count": 52,
   "metadata": {},
   "outputs": [
    {
     "data": {
      "text/plain": [
       "'f{prj_name}.b{p_num}'"
      ]
     },
     "execution_count": 52,
     "metadata": {},
     "output_type": "execute_result"
    }
   ],
   "source": [
    "import os\n",
    "p_num = p_yaml_fn.split(\".\")[-2][1:]\n",
    "g_num = p_yaml['Geom File'][1:]\n",
    "u_num = p_yaml['Flow File'][1:]\n",
    "\n",
    "# prj_name = p_yaml_fn.split(\".\")[-3]\n",
    "prj_dir, prj_file_tail = os.path.split(p_yaml_fn)\n",
    "prj_name = prj_file_tail.split(\".\")[0]\n",
    "# prj_name\n",
    "b_file = 'f{prj_name}.b{p_num}'\n",
    "b_file\n"
   ]
  },
  {
   "cell_type": "code",
   "execution_count": 31,
   "metadata": {},
   "outputs": [
    {
     "data": {
      "text/plain": [
       "['Met BC=Wind Velocity Y|Gridded DSS Filename=.\\\\BC_Extended\\\\ADCIRC_WIND_6\\\\Isaac_Y.dss',\n",
       " 'DSS File=.\\\\BC_Extended\\\\ADCIRC_WL_Isaac.dss',\n",
       " 'DSS File=.\\\\BC_Extended\\\\AORC_Data\\\\Isaac___Grid___AORC.dss',\n",
       " 'Met BC=Precipitation|Gridded DSS Filename=.\\\\BC_Extended\\\\AORC_Data\\\\Gridded_Rainfall\\\\Isaac_AORC.dss',\n",
       " 'Met BC=Wind Velocity X|Gridded DSS Filename=.\\\\BC_Extended\\\\ADCIRC_WIND_6\\\\Isaac_X.dss',\n",
       " 'Observed Time Series=Stage|TS DSS Filename=.\\\\BC_Extended\\\\PortVincent_AmiteGage_15min.dss']"
      ]
     },
     "execution_count": 31,
     "metadata": {},
     "output_type": "execute_result"
    }
   ],
   "source": [
    "# Get Unique input DSS files\n",
    "# p_yaml['DSS Input Files']\n",
    "\n",
    "dss_input_file_list = [el[0] for el in p_yaml['DSS Input Files']]\n",
    "# dss_input_file_list\n",
    "list_unique = list(set(dss_input_file_list))\n",
    "list_unique"
   ]
  },
  {
   "cell_type": "code",
   "execution_count": 60,
   "metadata": {},
   "outputs": [
    {
     "data": {
      "text/plain": [
       "[{'title': 'Met BC Wind Velocity Y|Gridded DSS Filename',\n",
       "  'location': '.\\\\BC_Extended\\\\ADCIRC_WIND_6\\\\Isaac_Y.dss',\n",
       "  'description': 'Met BC Wind Velocity Y|Gridded DSS Filename',\n",
       "  'source_dataset': None},\n",
       " {'title': 'DSS File',\n",
       "  'location': '.\\\\BC_Extended\\\\ADCIRC_WL_Isaac.dss',\n",
       "  'description': 'DSS File',\n",
       "  'source_dataset': None},\n",
       " {'title': 'DSS File',\n",
       "  'location': '.\\\\BC_Extended\\\\AORC_Data\\\\Isaac___Grid___AORC.dss',\n",
       "  'description': 'DSS File',\n",
       "  'source_dataset': None},\n",
       " {'title': 'Met BC Precipitation|Gridded DSS Filename',\n",
       "  'location': '.\\\\BC_Extended\\\\AORC_Data\\\\Gridded_Rainfall\\\\Isaac_AORC.dss',\n",
       "  'description': 'Met BC Precipitation|Gridded DSS Filename',\n",
       "  'source_dataset': None},\n",
       " {'title': 'Met BC Wind Velocity X|Gridded DSS Filename',\n",
       "  'location': '.\\\\BC_Extended\\\\ADCIRC_WIND_6\\\\Isaac_X.dss',\n",
       "  'description': 'Met BC Wind Velocity X|Gridded DSS Filename',\n",
       "  'source_dataset': None},\n",
       " {'title': 'Observed Time Series Stage|TS DSS Filename',\n",
       "  'location': '.\\\\BC_Extended\\\\PortVincent_AmiteGage_15min.dss',\n",
       "  'description': 'Observed Time Series Stage|TS DSS Filename',\n",
       "  'source_dataset': None},\n",
       " {'title': 'Terrain',\n",
       "  'location': '.\\\\Terrain\\\\Amite_Dec15.hdf',\n",
       "  'description': 'Terrain used by model',\n",
       "  'source_dataset': None},\n",
       " {'title': 'b file',\n",
       "  'location': 'f{prj_name}.b{p_num}',\n",
       "  'description': 'RAS master input text file',\n",
       "  'source_dataset': None},\n",
       " {'title': 'g file',\n",
       "  'location': 'Amite_2022.g01',\n",
       "  'description': 'RAS geometry file',\n",
       "  'source_dataset': None},\n",
       " {'title': 'prj file',\n",
       "  'location': 'Amite_2022.prj',\n",
       "  'description': 'RAS project file which links projects with plans, geometry, and flow files',\n",
       "  'source_dataset': None},\n",
       " {'title': 'c file',\n",
       "  'location': 'Amite_2022.c01',\n",
       "  'description': 'Binary Geometry file from Geom Prep',\n",
       "  'source_dataset': None},\n",
       " {'title': 'x file',\n",
       "  'location': 'Amite_2022.x01',\n",
       "  'description': 'Geometry master input text file',\n",
       "  'source_dataset': None},\n",
       " {'title': 'p file',\n",
       "  'location': 'Amite_2022.p07',\n",
       "  'description': 'Model plan data',\n",
       "  'source_dataset': None},\n",
       " {'title': 'u file',\n",
       "  'location': 'Amite_2022.u05',\n",
       "  'description': 'unsteady flow file',\n",
       "  'source_dataset': None},\n",
       " {'title': 'u hdf file',\n",
       "  'location': 'Amite_2022.u05.hdf',\n",
       "  'description': 'unsteady flow file in HDF format',\n",
       "  'source_dataset': None}]"
      ]
     },
     "execution_count": 60,
     "metadata": {},
     "output_type": "execute_result"
    }
   ],
   "source": [
    "input_files = []\n",
    "for i in list_unique:\n",
    "    j = i.split(\"=\")\n",
    "    # print (j)\n",
    "    # print ('\\n')\n",
    "    if len(j) == 3:\n",
    "        input_files.append(\n",
    "            {\n",
    "                \"title\": j[0]+\" \"+j[1],\n",
    "                \"location\": j[-1],\n",
    "                \"description\": j[0]+\" \"+j[1],\n",
    "                \"source_dataset\": None\n",
    "            }\n",
    "        )\n",
    "    else:\n",
    "        input_files.append(\n",
    "            {\n",
    "                \"title\": j[0],\n",
    "                \"location\": j[-1],\n",
    "                \"description\": j[0],\n",
    "                \"source_dataset\": None\n",
    "            }\n",
    "        )\n",
    "input_files.extend(\n",
    "    [{\n",
    "        \"title\": \"Terrain\",\n",
    "        \"location\": p_yaml['terrain'],\n",
    "        \"description\": \"Terrain used by model\",\n",
    "        \"source_dataset\": None\n",
    "    },\n",
    "    {\n",
    "        \"title\": \"b file\",\n",
    "        \"location\": 'f{prj_name}.b{p_num}',\n",
    "        \"description\": \"RAS master input text file\",\n",
    "        \"source_dataset\": None\n",
    "    },\n",
    "    {\n",
    "        \"title\": \"g file\",\n",
    "        \"location\": f\"{prj_name}.{p_yaml['Geom File']}\",\n",
    "        \"description\": \"RAS geometry file\",\n",
    "        \"source_dataset\": None\n",
    "    },\n",
    "    {\n",
    "        \"title\": \"prj file\",\n",
    "        \"location\": f'{prj_name}.prj',\n",
    "        \"description\": \"RAS project file which links projects with plans, geometry, and flow files\",\n",
    "        \"source_dataset\": None\n",
    "        },\n",
    "    {\n",
    "        \"title\": \"c file\",\n",
    "        \"location\": f\"{prj_name}.c{g_num}\",\n",
    "        \"description\": \"Binary Geometry file from Geom Prep\",\n",
    "        \"source_dataset\": None\n",
    "    },\n",
    "        {\n",
    "            \"title\": \"x file\",\n",
    "            \"location\": f\"{prj_name}.x{g_num}\",\n",
    "            \"description\": \"Geometry master input text file\",\n",
    "            \"source_dataset\": None\n",
    "        },\n",
    "        {\n",
    "            \"title\": \"p file\",\n",
    "            \"location\": f\"{prj_name}.p{p_num}\",\n",
    "            \"description\": \"Model plan data\",\n",
    "            \"source_dataset\": None\n",
    "        },\n",
    "        {\n",
    "            \"title\": \"u file\",\n",
    "            \"location\": f\"{prj_name}.u{u_num}\",\n",
    "            \"description\": \"unsteady flow file\",\n",
    "            \"source_dataset\": None\n",
    "        },\n",
    "        {\n",
    "            \"title\": \"u hdf file\",\n",
    "            \"location\": f\"{prj_name}.u{u_num}.hdf\",\n",
    "            \"description\": \"unsteady flow file in HDF format\",\n",
    "            \"source_dataset\": None\n",
    "        }]\n",
    ")\n",
    "input_files"
   ]
  },
  {
   "cell_type": "code",
   "execution_count": 62,
   "metadata": {},
   "outputs": [],
   "source": [
    "# Map\n",
    "\n",
    "# ras_model_template_json['title'] = prj_yaml['Proj Title']\n",
    "# ras_model_template_json['description'] = prj_yaml['Description']\n",
    "# ras_model_template_json['purpose'] = prj_yaml['Description']\n",
    "# ras_model_template_json['simulations'] = prj_yaml['Plans']\n",
    "# ras_model_template_json['grid']['coordinate_system'] = prj_yaml['coordinate_system']\n",
    "# ras_model_template_json['spatial_extent'][0] = prj_yaml['spatial_extent']\n",
    "# ras_model_template_json['common_files_details'][0] = {\n",
    "#     'source_dataset': None,\n",
    "#     'description': 'RAS project file which links projects with plans, geometry, and flow files',\n",
    "#     'location': prj_yaml['Project File'],\n",
    "#     'title': 'prj file'\n",
    "# }\n",
    "\n",
    "ras_sim_template_json['title'] = p_yaml['Plan Title']\n",
    "ras_sim_template_json['description'] = p_yaml['Description']\n",
    "ras_sim_template_json['temporal_extent'] = temporal_extent\n",
    "ras_sim_template_json['temporal_resolution'] = p_yaml['Computation Interval']\n",
    "ras_sim_template_json['output_files'] = [\n",
    "    {\n",
    "            \"title\": \"output dss file\",\n",
    "            \"location\": p_yaml['DSS Output File'],\n",
    "            \"description\": \"output model data in dss\",\n",
    "            \"source_dataset\": None\n",
    "        },\n",
    "        {\n",
    "            \"title\": \"p hdf file\",\n",
    "            \"location\": f\"{prj_name}.p{p_num}.hdf\",\n",
    "            \"description\": \"result output in HDF format\",\n",
    "            \"source_dataset\": None\n",
    "        }\n",
    "]\n",
    "ras_sim_template_json['input_files'] = input_files\n",
    "\n",
    "\n"
   ]
  },
  {
   "cell_type": "code",
   "execution_count": 64,
   "metadata": {},
   "outputs": [],
   "source": [
    "# output mapped json\n",
    "with open(\"simTest.json\", \"w\") as outfile:\n",
    "    json.dump(ras_sim_template_json, outfile)"
   ]
  }
 ],
 "metadata": {
  "kernelspec": {
   "display_name": "flask-forms",
   "language": "python",
   "name": "python3"
  },
  "language_info": {
   "codemirror_mode": {
    "name": "ipython",
    "version": 3
   },
   "file_extension": ".py",
   "mimetype": "text/x-python",
   "name": "python",
   "nbconvert_exporter": "python",
   "pygments_lexer": "ipython3",
   "version": "3.11.0"
  },
  "orig_nbformat": 4,
  "vscode": {
   "interpreter": {
    "hash": "990a51e6637b3aec83bdfd68488de192c6aff3f5a8661c0fcf7fce7c40ea5ab0"
   }
  }
 },
 "nbformat": 4,
 "nbformat_minor": 2
}
